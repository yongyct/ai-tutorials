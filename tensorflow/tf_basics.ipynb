{
 "cells": [
  {
   "cell_type": "markdown",
   "metadata": {},
   "source": [
    "# TF Basics"
   ]
  },
  {
   "cell_type": "code",
   "execution_count": 71,
   "metadata": {},
   "outputs": [],
   "source": [
    "import numpy as np\n",
    "import matplotlib.pyplot as plt\n",
    "import tensorflow as tf\n",
    "from tensorflow.train import GradientDescentOptimizer"
   ]
  },
  {
   "cell_type": "code",
   "execution_count": 2,
   "metadata": {},
   "outputs": [],
   "source": [
    "hello = tf.constant(\"Hello \")\n",
    "world = tf.constant(\"World\")"
   ]
  },
  {
   "cell_type": "code",
   "execution_count": 3,
   "metadata": {},
   "outputs": [
    {
     "data": {
      "text/plain": [
       "b'Hello World'"
      ]
     },
     "execution_count": 3,
     "metadata": {},
     "output_type": "execute_result"
    }
   ],
   "source": [
    "with tf.Session() as sess:\n",
    "    res = sess.run(hello + world)\n",
    "res"
   ]
  },
  {
   "cell_type": "code",
   "execution_count": 4,
   "metadata": {},
   "outputs": [
    {
     "data": {
      "text/plain": [
       "30"
      ]
     },
     "execution_count": 4,
     "metadata": {},
     "output_type": "execute_result"
    }
   ],
   "source": [
    "a = tf.constant(10)\n",
    "b = tf.constant(20)\n",
    "\n",
    "with tf.Session() as sess:\n",
    "    res = sess.run(a + b)\n",
    "res"
   ]
  },
  {
   "cell_type": "code",
   "execution_count": 5,
   "metadata": {},
   "outputs": [],
   "source": [
    "# InteractiveSession: to use sess without the *with* statement, \n",
    "# only with Notebooks\n",
    "sess = tf.InteractiveSession()"
   ]
  },
  {
   "cell_type": "code",
   "execution_count": 12,
   "metadata": {},
   "outputs": [
    {
     "name": "stdout",
     "output_type": "stream",
     "text": [
      "[[10 10 10 10]\n",
      " [10 10 10 10]\n",
      " [10 10 10 10]\n",
      " [10 10 10 10]]\n",
      "[[1. 1. 1. 1.]\n",
      " [1. 1. 1. 1.]\n",
      " [1. 1. 1. 1.]\n",
      " [1. 1. 1. 1.]]\n",
      "[[ 0.22051685 -0.49028116  1.1717652  -1.2863343 ]\n",
      " [ 0.2383708  -0.54891205  0.3300665  -1.6979735 ]\n",
      " [ 0.13401453  0.48500395 -0.66496634  2.504814  ]\n",
      " [ 1.7277977   0.45322135 -0.74498796 -0.47506636]]\n",
      "[[0.41041946 0.8530501  0.27962482 0.35964012]\n",
      " [0.92274106 0.5058706  0.9927993  0.12416065]\n",
      " [0.48526204 0.17973876 0.07888615 0.12254667]\n",
      " [0.82107544 0.5970057  0.22554171 0.01811826]]\n",
      "[[210]\n",
      " [430]]\n"
     ]
    }
   ],
   "source": [
    "fill_mat = tf.fill((4, 4), 10)\n",
    "fill_ones = tf.ones((4, 4))\n",
    "fill_randn = tf.random_normal((4, 4))\n",
    "fill_randu = tf.random_uniform((4, 4), minval=0, maxval=1)\n",
    "fill_ops = [fill_mat, fill_ones, fill_randn, fill_randu]\n",
    "\n",
    "for fill_op in fill_ops:\n",
    "#     print(sess.run(fill_op))\n",
    "    print(fill_op.eval())\n",
    "    \n",
    "mata = tf.constant([[1, 2], [3, 4]])\n",
    "matb = tf.constant([[10], [100]])\n",
    "print(tf.matmul(mata, matb).eval())"
   ]
  },
  {
   "cell_type": "markdown",
   "metadata": {},
   "source": [
    "# TF Graphs"
   ]
  },
  {
   "cell_type": "code",
   "execution_count": 15,
   "metadata": {},
   "outputs": [
    {
     "name": "stdout",
     "output_type": "stream",
     "text": [
      "<tensorflow.python.framework.ops.Graph object at 0x000001FA8F600F88>\n",
      "<tensorflow.python.framework.ops.Graph object at 0x000001FA900B1248>\n"
     ]
    }
   ],
   "source": [
    "print(tf.get_default_graph())\n",
    "g = tf.Graph()\n",
    "print(g)"
   ]
  },
  {
   "cell_type": "code",
   "execution_count": 18,
   "metadata": {},
   "outputs": [
    {
     "name": "stdout",
     "output_type": "stream",
     "text": [
      "Inside explicit graph selection, g is default: True\n",
      "Outside explicit graph selection, g is default: False\n"
     ]
    }
   ],
   "source": [
    "with g.as_default():\n",
    "    print('Inside explicit graph selection, g is default:', g is tf.get_default_graph())\n",
    "print('Outside explicit graph selection, g is default:', g is tf.get_default_graph())"
   ]
  },
  {
   "cell_type": "markdown",
   "metadata": {},
   "source": [
    "* Aside, in python, \"*is*\" checks for identity (same memory item) while \"*==*\" checks for value"
   ]
  },
  {
   "cell_type": "markdown",
   "metadata": {},
   "source": [
    "# Variables & Placeholders\n",
    "\n",
    "* Variables: Holds weights & biases, need to be initialized\n",
    "* Placeholders: Initially empty, need to be fed with data inputs, and expected *dtype* (e.g. tf.float32) need to be declared with optional shape arg"
   ]
  },
  {
   "cell_type": "code",
   "execution_count": 2,
   "metadata": {},
   "outputs": [],
   "source": [
    "# Beware to call this multiple times, will result in memleak\n",
    "sess = tf.InteractiveSession()"
   ]
  },
  {
   "cell_type": "code",
   "execution_count": 3,
   "metadata": {},
   "outputs": [],
   "source": [
    "w_tensor = tf.random_uniform((4, 4), minval=0, maxval=1)\n",
    "w_var = tf.Variable(initial_value=w_tensor)"
   ]
  },
  {
   "cell_type": "code",
   "execution_count": 15,
   "metadata": {},
   "outputs": [],
   "source": [
    "# to initialize variable for it to work, \n",
    "# must call tf.global_variables_initializer() first, if not will break.\n",
    "# Also for every re-run, if you run the weights var, latter will change\n",
    "sess.run(tf.global_variables_initializer())"
   ]
  },
  {
   "cell_type": "code",
   "execution_count": 16,
   "metadata": {},
   "outputs": [
    {
     "data": {
      "text/plain": [
       "array([[0.76804173, 0.13651967, 0.7721131 , 0.53111935],\n",
       "       [0.7195585 , 0.32651198, 0.19237804, 0.42989373],\n",
       "       [0.9536592 , 0.42129266, 0.15818512, 0.4136641 ],\n",
       "       [0.9047719 , 0.9737476 , 0.90698576, 0.6388211 ]], dtype=float32)"
      ]
     },
     "execution_count": 16,
     "metadata": {},
     "output_type": "execute_result"
    }
   ],
   "source": [
    "sess.run(w_var)"
   ]
  },
  {
   "cell_type": "code",
   "execution_count": 17,
   "metadata": {},
   "outputs": [],
   "source": [
    "# Shape[0] is typically None, \n",
    "# since we feed unknown number of input data size\n",
    "b = tf.placeholder(tf.float32, shape=(None, 5))"
   ]
  },
  {
   "cell_type": "markdown",
   "metadata": {},
   "source": [
    "# Operators"
   ]
  },
  {
   "cell_type": "code",
   "execution_count": 20,
   "metadata": {},
   "outputs": [],
   "source": [
    "np.random.seed(101)\n",
    "tf.set_random_seed(101)"
   ]
  },
  {
   "cell_type": "code",
   "execution_count": 42,
   "metadata": {},
   "outputs": [],
   "source": [
    "a = tf.placeholder(tf.float32)\n",
    "b = tf.placeholder(tf.float32)"
   ]
  },
  {
   "cell_type": "code",
   "execution_count": 48,
   "metadata": {},
   "outputs": [
    {
     "name": "stdout",
     "output_type": "stream",
     "text": [
      "30.0\n",
      "200.0\n",
      "30.0\n",
      "200.0\n"
     ]
    }
   ],
   "source": [
    "# Method 1 => use python operators\n",
    "print(sess.run(a + b, feed_dict={a:10, b:20}))\n",
    "print(sess.run(a * b, feed_dict={a:10, b:20}))\n",
    "# Method 2 => use tf operators\n",
    "print(sess.run(tf.add(a, b), feed_dict={a:10, b:20}))\n",
    "print(sess.run(tf.multiply(a, b), feed_dict={a:10, b:20}))"
   ]
  },
  {
   "cell_type": "markdown",
   "metadata": {},
   "source": [
    "# Building a Simple Linear Neural Network\n",
    "\n",
    "=> sigma(xW + b)"
   ]
  },
  {
   "cell_type": "code",
   "execution_count": 50,
   "metadata": {},
   "outputs": [],
   "source": [
    "n_features = 10\n",
    "n_dense_neurons = 3\n",
    "\n",
    "# Shape[0] = Num input sample size, Shape[1] = Num of input nodes\n",
    "x = tf.placeholder(dtype=tf.float32, shape=(None, n_features))\n",
    "# Each neuron has weight terms for each feature\n",
    "W = tf.Variable(tf.random_normal([n_features, n_dense_neurons]))\n",
    "# Each neuron will have 1 bias term\n",
    "b = tf.Variable(tf.ones([n_dense_neurons]))\n",
    "\n",
    "# Operations chain\n",
    "xW = tf.matmul(x, W)\n",
    "z = tf.add(xW, b)\n",
    "a = tf.sigmoid(z)"
   ]
  },
  {
   "cell_type": "code",
   "execution_count": 51,
   "metadata": {},
   "outputs": [
    {
     "data": {
      "text/plain": [
       "array([[0.25657442, 0.83892006, 0.45951933]], dtype=float32)"
      ]
     },
     "execution_count": 51,
     "metadata": {},
     "output_type": "execute_result"
    }
   ],
   "source": [
    "sess.run(tf.global_variables_initializer())\n",
    "sess.run(a, feed_dict={x:np.random.random([1, n_features])})"
   ]
  },
  {
   "cell_type": "markdown",
   "metadata": {},
   "source": [
    "# Simple Regression Example\n",
    "\n",
    "=> y = mx + c"
   ]
  },
  {
   "cell_type": "code",
   "execution_count": 55,
   "metadata": {},
   "outputs": [
    {
     "data": {
      "text/plain": [
       "<matplotlib.collections.PathCollection at 0x29c0c293508>"
      ]
     },
     "execution_count": 55,
     "metadata": {},
     "output_type": "execute_result"
    },
    {
     "data": {
      "image/png": "[encoded data removed]",
      "text/plain": [
       "<Figure size 432x288 with 1 Axes>"
      ]
     },
     "metadata": {
      "needs_background": "light"
     },
     "output_type": "display_data"
    }
   ],
   "source": [
    "# Generate mock data with noise\n",
    "x_data = np.linspace(0, 10, 10) + np.random.uniform(-1.5, 1.5, 10)\n",
    "y_label = np.linspace(0, 10, 10) + np.random.uniform(-1.5, 1.5, 10)\n",
    "\n",
    "plt.scatter(x=x_data, y=y_label)"
   ]
  },
  {
   "cell_type": "code",
   "execution_count": 70,
   "metadata": {},
   "outputs": [],
   "source": [
    "# init m & c\n",
    "m = tf.Variable(np.random.random(1).item())\n",
    "c = tf.Variable(np.random.random(1).item())"
   ]
  },
  {
   "cell_type": "code",
   "execution_count": 72,
   "metadata": {},
   "outputs": [
    {
     "name": "stderr",
     "output_type": "stream",
     "text": [
      "W0908 23:33:54.901128 29784 deprecation.py:323] From C:\\Users\\tommy.yong\\AppData\\Local\\Continuum\\anaconda3\\envs\\learnenv\\lib\\site-packages\\tensorflow\\python\\ops\\math_grad.py:1205: add_dispatch_support.<locals>.wrapper (from tensorflow.python.ops.array_ops) is deprecated and will be removed in a future version.\n",
      "Instructions for updating:\n",
      "Use tf.where in 2.0, which has the same broadcast rule as np.where\n"
     ]
    }
   ],
   "source": [
    "# String up error into the DAG by operations with m, c\n",
    "error = 0\n",
    "for x, y in zip(x_data, y_label):\n",
    "    y_hat = m * x + c\n",
    "    error += (y_hat - y) ** 2\n",
    "    \n",
    "optimizer = GradientDescentOptimizer(learning_rate=0.001)\n",
    "train = optimizer.minimize(error)"
   ]
  },
  {
   "cell_type": "code",
   "execution_count": 80,
   "metadata": {},
   "outputs": [
    {
     "name": "stdout",
     "output_type": "stream",
     "text": [
      "(0.8732868, 0.5934087) 8.994861\n",
      "(0.87200624, 0.5187913) 8.67009\n",
      "(0.88125956, 0.45255592) 8.446817\n",
      "(0.8896539, 0.3924695) 8.263081\n",
      "(0.89726895, 0.33796117) 8.111873\n"
     ]
    }
   ],
   "source": [
    "sess.run(tf.global_variables_initializer())\n",
    "for i in range(100):\n",
    "    sess.run(train)\n",
    "    if i % 20 == 0:\n",
    "        print(sess.run((m, c)), sess.run(error))\n",
    "final_m, final_c = sess.run((m, c))"
   ]
  },
  {
   "cell_type": "code",
   "execution_count": 82,
   "metadata": {},
   "outputs": [
    {
     "data": {
      "text/plain": [
       "[<matplotlib.lines.Line2D at 0x29c0d8f5288>]"
      ]
     },
     "execution_count": 82,
     "metadata": {},
     "output_type": "execute_result"
    },
    {
     "data": {
      "image/png": "[encoded data removed]",
      "text/plain": [
       "<Figure size 432x288 with 1 Axes>"
      ]
     },
     "metadata": {
      "needs_background": "light"
     },
     "output_type": "display_data"
    }
   ],
   "source": [
    "x_test = np.linspace(0, 10, 10)\n",
    "y_test_pred = final_m * x_test + final_c\n",
    "\n",
    "plt.scatter(x=x_data, y=y_label)\n",
    "plt.plot(x_test, y_test_pred, 'r')"
   ]
  },
  {
   "cell_type": "code",
   "execution_count": null,
   "metadata": {},
   "outputs": [],
   "source": []
  }
 ],
 "metadata": {
  "kernelspec": {
   "display_name": "Python 3",
   "language": "python",
   "name": "python3"
  },
  "language_info": {
   "codemirror_mode": {
    "name": "ipython",
    "version": 3
   },
   "file_extension": ".py",
   "mimetype": "text/x-python",
   "name": "python",
   "nbconvert_exporter": "python",
   "pygments_lexer": "ipython3",
   "version": "3.7.4"
  }
 },
 "nbformat": 4,
 "nbformat_minor": 2
}
