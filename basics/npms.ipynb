{
 "cells": [
  {
   "cell_type": "markdown",
   "metadata": {},
   "source": [
    "# Numpy"
   ]
  },
  {
   "cell_type": "code",
   "execution_count": 1,
   "metadata": {},
   "outputs": [],
   "source": [
    "import numpy as np"
   ]
  },
  {
   "cell_type": "code",
   "execution_count": 26,
   "metadata": {},
   "outputs": [
    {
     "name": "stdout",
     "output_type": "stream",
     "text": [
      "My array:  [0 1 2 3 4 5 6 7 8 9]\n",
      "My arange array:  [ 0  2  4  6  8 10]\n",
      "My zeros:  [[0. 0. 0.]\n",
      " [0. 0. 0.]\n",
      " [0. 0. 0.]\n",
      " [0. 0. 0.]\n",
      " [0. 0. 0.]]\n",
      "My ones:  [[1. 1. 1.]\n",
      " [1. 1. 1.]\n",
      " [1. 1. 1.]\n",
      " [1. 1. 1.]\n",
      " [1. 1. 1.]]\n",
      "My ones_like:  [1]\n",
      "My linspace:  [0.         0.11111111 0.22222222 0.33333333 0.44444444 0.55555556\n",
      " 0.66666667 0.77777778 0.88888889 1.        ]\n",
      "My randint:  [[5 8 9]\n",
      " [5 0 0]\n",
      " [1 7 6]]\n",
      "My randn:  [[ 0.25759352 -1.9593946  -1.50780766]\n",
      " [-0.31529207  0.85817886  0.07134299]\n",
      " [-2.29230928 -1.41555249  0.8858294 ]\n",
      " [ 0.63190187  0.04026035 -0.90312288]\n",
      " [ 0.17532267  0.19443089 -0.53524902]]\n"
     ]
    }
   ],
   "source": [
    "my_list = [i for i in range(10)]\n",
    "print(\"My array: \", np.array(my_list))\n",
    "print(\"My arange array: \", np.arange(0, 11, 2))\n",
    "print(\"My zeros: \", np.zeros((5, 3)))\n",
    "print(\"My ones: \", np.ones((5, 3)))\n",
    "print(\"My ones_like: \", np.ones_like((5, )))\n",
    "print(\"My linspace: \", np.linspace(0, 1, 10))\n",
    "np.random.seed(1)\n",
    "print(\"My randint: \", np.random.randint(0, 10, (3, 3)))\n",
    "print(\"My randn: \", np.random.randn(5, 3))"
   ]
  },
  {
   "cell_type": "code",
   "execution_count": 51,
   "metadata": {},
   "outputs": [
    {
     "name": "stdout",
     "output_type": "stream",
     "text": [
      "[[32 46 63 93 18 36]\n",
      " [29 39 28 54 29 55]\n",
      " [90 27 60 12 17 71]\n",
      " [91  7 83 56 51 32]\n",
      " [76 62 51 96 30 22]\n",
      " [ 5 91 95 22 76 22]]\n",
      "96\n",
      "5\n",
      "49.083333333333336\n",
      "27\n",
      "[[32 46 63 93 18 36 29 39 28 54 29 55 90 27 60 12 17 71]\n",
      " [91  7 83 56 51 32 76 62 51 96 30 22  5 91 95 22 76 22]]\n",
      "39\n",
      "[32 29 90 91 76  5]\n",
      "[32 46 63 93 18 36]\n",
      "[[91  7 83]\n",
      " [76 62 51]\n",
      " [ 5 91 95]]\n",
      "[18 12 17  7 22  5 22 22]\n"
     ]
    }
   ],
   "source": [
    "my_arr = np.random.randint(0, 100, (6, 6))\n",
    "print(my_arr)\n",
    "print(my_arr.max())\n",
    "print(my_arr.min())\n",
    "print(my_arr.mean())\n",
    "print(my_arr.argmax())\n",
    "print(my_arr.reshape(2, -1))\n",
    "print(my_arr[1,1])\n",
    "print(my_arr[:, 0])\n",
    "print(my_arr[0, :])\n",
    "print(my_arr[-3:, :-3])\n",
    "print(my_arr[my_arr < 25])"
   ]
  },
  {
   "cell_type": "markdown",
   "metadata": {},
   "source": [
    "# Pandas"
   ]
  },
  {
   "cell_type": "code",
   "execution_count": 52,
   "metadata": {},
   "outputs": [],
   "source": [
    "import pandas as pd"
   ]
  },
  {
   "cell_type": "code",
   "execution_count": 64,
   "metadata": {},
   "outputs": [
    {
     "data": {
      "text/html": [
       "<div>\n",
       "<style scoped>\n",
       "    .dataframe tbody tr th:only-of-type {\n",
       "        vertical-align: middle;\n",
       "    }\n",
       "\n",
       "    .dataframe tbody tr th {\n",
       "        vertical-align: top;\n",
       "    }\n",
       "\n",
       "    .dataframe thead th {\n",
       "        text-align: right;\n",
       "    }\n",
       "</style>\n",
       "<table border=\"1\" class=\"dataframe\">\n",
       "  <thead>\n",
       "    <tr style=\"text-align: right;\">\n",
       "      <th></th>\n",
       "      <th>policyID</th>\n",
       "      <th>eq_site_limit</th>\n",
       "      <th>hu_site_limit</th>\n",
       "      <th>fl_site_limit</th>\n",
       "      <th>fr_site_limit</th>\n",
       "      <th>tiv_2011</th>\n",
       "      <th>tiv_2012</th>\n",
       "      <th>eq_site_deductible</th>\n",
       "      <th>hu_site_deductible</th>\n",
       "      <th>fl_site_deductible</th>\n",
       "      <th>fr_site_deductible</th>\n",
       "      <th>point_latitude</th>\n",
       "      <th>point_longitude</th>\n",
       "      <th>point_granularity</th>\n",
       "    </tr>\n",
       "  </thead>\n",
       "  <tbody>\n",
       "    <tr>\n",
       "      <td>count</td>\n",
       "      <td>36634.000000</td>\n",
       "      <td>3.663400e+04</td>\n",
       "      <td>3.663400e+04</td>\n",
       "      <td>3.663400e+04</td>\n",
       "      <td>3.663400e+04</td>\n",
       "      <td>3.663400e+04</td>\n",
       "      <td>3.663400e+04</td>\n",
       "      <td>3.663400e+04</td>\n",
       "      <td>3.663400e+04</td>\n",
       "      <td>36634.000000</td>\n",
       "      <td>36634.000000</td>\n",
       "      <td>36634.000000</td>\n",
       "      <td>36634.000000</td>\n",
       "      <td>36634.000000</td>\n",
       "    </tr>\n",
       "    <tr>\n",
       "      <td>mean</td>\n",
       "      <td>548661.937189</td>\n",
       "      <td>7.314780e+05</td>\n",
       "      <td>2.074348e+06</td>\n",
       "      <td>6.646009e+05</td>\n",
       "      <td>9.911724e+05</td>\n",
       "      <td>2.172875e+06</td>\n",
       "      <td>2.571004e+06</td>\n",
       "      <td>7.787908e+02</td>\n",
       "      <td>7.037985e+03</td>\n",
       "      <td>192.453210</td>\n",
       "      <td>26.483594</td>\n",
       "      <td>28.087477</td>\n",
       "      <td>-81.903565</td>\n",
       "      <td>1.640907</td>\n",
       "    </tr>\n",
       "    <tr>\n",
       "      <td>std</td>\n",
       "      <td>259912.926494</td>\n",
       "      <td>1.752300e+07</td>\n",
       "      <td>1.964150e+07</td>\n",
       "      <td>1.746114e+07</td>\n",
       "      <td>1.767178e+07</td>\n",
       "      <td>2.015015e+07</td>\n",
       "      <td>2.036777e+07</td>\n",
       "      <td>4.787979e+04</td>\n",
       "      <td>9.582593e+04</td>\n",
       "      <td>8037.713716</td>\n",
       "      <td>4702.740932</td>\n",
       "      <td>1.647734</td>\n",
       "      <td>1.809066</td>\n",
       "      <td>1.070561</td>\n",
       "    </tr>\n",
       "    <tr>\n",
       "      <td>min</td>\n",
       "      <td>100074.000000</td>\n",
       "      <td>0.000000e+00</td>\n",
       "      <td>0.000000e+00</td>\n",
       "      <td>0.000000e+00</td>\n",
       "      <td>0.000000e+00</td>\n",
       "      <td>9.000000e+01</td>\n",
       "      <td>7.337000e+01</td>\n",
       "      <td>0.000000e+00</td>\n",
       "      <td>0.000000e+00</td>\n",
       "      <td>0.000000</td>\n",
       "      <td>0.000000</td>\n",
       "      <td>24.547514</td>\n",
       "      <td>-87.447290</td>\n",
       "      <td>1.000000</td>\n",
       "    </tr>\n",
       "    <tr>\n",
       "      <td>25%</td>\n",
       "      <td>323647.750000</td>\n",
       "      <td>0.000000e+00</td>\n",
       "      <td>4.248106e+04</td>\n",
       "      <td>0.000000e+00</td>\n",
       "      <td>0.000000e+00</td>\n",
       "      <td>4.562415e+04</td>\n",
       "      <td>5.401351e+04</td>\n",
       "      <td>0.000000e+00</td>\n",
       "      <td>0.000000e+00</td>\n",
       "      <td>0.000000</td>\n",
       "      <td>0.000000</td>\n",
       "      <td>26.471996</td>\n",
       "      <td>-82.439331</td>\n",
       "      <td>1.000000</td>\n",
       "    </tr>\n",
       "    <tr>\n",
       "      <td>50%</td>\n",
       "      <td>548525.000000</td>\n",
       "      <td>0.000000e+00</td>\n",
       "      <td>1.926911e+05</td>\n",
       "      <td>0.000000e+00</td>\n",
       "      <td>0.000000e+00</td>\n",
       "      <td>2.021051e+05</td>\n",
       "      <td>2.416310e+05</td>\n",
       "      <td>0.000000e+00</td>\n",
       "      <td>0.000000e+00</td>\n",
       "      <td>0.000000</td>\n",
       "      <td>0.000000</td>\n",
       "      <td>28.057077</td>\n",
       "      <td>-81.585700</td>\n",
       "      <td>1.000000</td>\n",
       "    </tr>\n",
       "    <tr>\n",
       "      <td>75%</td>\n",
       "      <td>774252.000000</td>\n",
       "      <td>0.000000e+00</td>\n",
       "      <td>9.163381e+05</td>\n",
       "      <td>0.000000e+00</td>\n",
       "      <td>5.741010e+04</td>\n",
       "      <td>9.465821e+05</td>\n",
       "      <td>1.128871e+06</td>\n",
       "      <td>0.000000e+00</td>\n",
       "      <td>0.000000e+00</td>\n",
       "      <td>0.000000</td>\n",
       "      <td>0.000000</td>\n",
       "      <td>29.623005</td>\n",
       "      <td>-80.372910</td>\n",
       "      <td>3.000000</td>\n",
       "    </tr>\n",
       "    <tr>\n",
       "      <td>max</td>\n",
       "      <td>999971.000000</td>\n",
       "      <td>2.160000e+09</td>\n",
       "      <td>2.160000e+09</td>\n",
       "      <td>2.160000e+09</td>\n",
       "      <td>2.160000e+09</td>\n",
       "      <td>2.160000e+09</td>\n",
       "      <td>1.701000e+09</td>\n",
       "      <td>6.273765e+06</td>\n",
       "      <td>7.380000e+06</td>\n",
       "      <td>450000.000000</td>\n",
       "      <td>900000.000000</td>\n",
       "      <td>30.989820</td>\n",
       "      <td>-80.033257</td>\n",
       "      <td>7.000000</td>\n",
       "    </tr>\n",
       "  </tbody>\n",
       "</table>\n",
       "</div>"
      ],
      "text/plain": [
       "            policyID  eq_site_limit  hu_site_limit  fl_site_limit  \\\n",
       "count   36634.000000   3.663400e+04   3.663400e+04   3.663400e+04   \n",
       "mean   548661.937189   7.314780e+05   2.074348e+06   6.646009e+05   \n",
       "std    259912.926494   1.752300e+07   1.964150e+07   1.746114e+07   \n",
       "min    100074.000000   0.000000e+00   0.000000e+00   0.000000e+00   \n",
       "25%    323647.750000   0.000000e+00   4.248106e+04   0.000000e+00   \n",
       "50%    548525.000000   0.000000e+00   1.926911e+05   0.000000e+00   \n",
       "75%    774252.000000   0.000000e+00   9.163381e+05   0.000000e+00   \n",
       "max    999971.000000   2.160000e+09   2.160000e+09   2.160000e+09   \n",
       "\n",
       "       fr_site_limit      tiv_2011      tiv_2012  eq_site_deductible  \\\n",
       "count   3.663400e+04  3.663400e+04  3.663400e+04        3.663400e+04   \n",
       "mean    9.911724e+05  2.172875e+06  2.571004e+06        7.787908e+02   \n",
       "std     1.767178e+07  2.015015e+07  2.036777e+07        4.787979e+04   \n",
       "min     0.000000e+00  9.000000e+01  7.337000e+01        0.000000e+00   \n",
       "25%     0.000000e+00  4.562415e+04  5.401351e+04        0.000000e+00   \n",
       "50%     0.000000e+00  2.021051e+05  2.416310e+05        0.000000e+00   \n",
       "75%     5.741010e+04  9.465821e+05  1.128871e+06        0.000000e+00   \n",
       "max     2.160000e+09  2.160000e+09  1.701000e+09        6.273765e+06   \n",
       "\n",
       "       hu_site_deductible  fl_site_deductible  fr_site_deductible  \\\n",
       "count        3.663400e+04        36634.000000        36634.000000   \n",
       "mean         7.037985e+03          192.453210           26.483594   \n",
       "std          9.582593e+04         8037.713716         4702.740932   \n",
       "min          0.000000e+00            0.000000            0.000000   \n",
       "25%          0.000000e+00            0.000000            0.000000   \n",
       "50%          0.000000e+00            0.000000            0.000000   \n",
       "75%          0.000000e+00            0.000000            0.000000   \n",
       "max          7.380000e+06       450000.000000       900000.000000   \n",
       "\n",
       "       point_latitude  point_longitude  point_granularity  \n",
       "count    36634.000000     36634.000000       36634.000000  \n",
       "mean        28.087477       -81.903565           1.640907  \n",
       "std          1.647734         1.809066           1.070561  \n",
       "min         24.547514       -87.447290           1.000000  \n",
       "25%         26.471996       -82.439331           1.000000  \n",
       "50%         28.057077       -81.585700           1.000000  \n",
       "75%         29.623005       -80.372910           3.000000  \n",
       "max         30.989820       -80.033257           7.000000  "
      ]
     },
     "execution_count": 64,
     "metadata": {},
     "output_type": "execute_result"
    }
   ],
   "source": [
    "df = pd.read_csv('data/FL_insurance_sample.csv')\n",
    "df.describe()"
   ]
  },
  {
   "cell_type": "code",
   "execution_count": 63,
   "metadata": {
    "scrolled": true
   },
   "outputs": [
    {
     "data": {
      "text/html": [
       "<div>\n",
       "<style scoped>\n",
       "    .dataframe tbody tr th:only-of-type {\n",
       "        vertical-align: middle;\n",
       "    }\n",
       "\n",
       "    .dataframe tbody tr th {\n",
       "        vertical-align: top;\n",
       "    }\n",
       "\n",
       "    .dataframe thead th {\n",
       "        text-align: right;\n",
       "    }\n",
       "</style>\n",
       "<table border=\"1\" class=\"dataframe\">\n",
       "  <thead>\n",
       "    <tr style=\"text-align: right;\">\n",
       "      <th></th>\n",
       "      <th>policyID</th>\n",
       "      <th>statecode</th>\n",
       "      <th>county</th>\n",
       "      <th>eq_site_limit</th>\n",
       "      <th>hu_site_limit</th>\n",
       "      <th>fl_site_limit</th>\n",
       "      <th>fr_site_limit</th>\n",
       "      <th>tiv_2011</th>\n",
       "      <th>tiv_2012</th>\n",
       "      <th>eq_site_deductible</th>\n",
       "      <th>hu_site_deductible</th>\n",
       "      <th>fl_site_deductible</th>\n",
       "      <th>fr_site_deductible</th>\n",
       "      <th>point_latitude</th>\n",
       "      <th>point_longitude</th>\n",
       "      <th>line</th>\n",
       "      <th>construction</th>\n",
       "      <th>point_granularity</th>\n",
       "    </tr>\n",
       "  </thead>\n",
       "  <tbody>\n",
       "    <tr>\n",
       "      <td>1</td>\n",
       "      <td>448094</td>\n",
       "      <td>FL</td>\n",
       "      <td>CLAY COUNTY</td>\n",
       "      <td>1322376.3</td>\n",
       "      <td>1322376.30</td>\n",
       "      <td>1322376.3</td>\n",
       "      <td>1322376.3</td>\n",
       "      <td>1322376.30</td>\n",
       "      <td>1438163.57</td>\n",
       "      <td>0.0</td>\n",
       "      <td>0.0</td>\n",
       "      <td>0.0</td>\n",
       "      <td>0</td>\n",
       "      <td>30.063936</td>\n",
       "      <td>-81.707664</td>\n",
       "      <td>Residential</td>\n",
       "      <td>Masonry</td>\n",
       "      <td>3</td>\n",
       "    </tr>\n",
       "    <tr>\n",
       "      <td>5</td>\n",
       "      <td>785275</td>\n",
       "      <td>FL</td>\n",
       "      <td>CLAY COUNTY</td>\n",
       "      <td>0.0</td>\n",
       "      <td>515035.62</td>\n",
       "      <td>0.0</td>\n",
       "      <td>0.0</td>\n",
       "      <td>515035.62</td>\n",
       "      <td>884419.17</td>\n",
       "      <td>0.0</td>\n",
       "      <td>0.0</td>\n",
       "      <td>0.0</td>\n",
       "      <td>0</td>\n",
       "      <td>30.063236</td>\n",
       "      <td>-81.707703</td>\n",
       "      <td>Residential</td>\n",
       "      <td>Masonry</td>\n",
       "      <td>3</td>\n",
       "    </tr>\n",
       "    <tr>\n",
       "      <td>6</td>\n",
       "      <td>995932</td>\n",
       "      <td>FL</td>\n",
       "      <td>CLAY COUNTY</td>\n",
       "      <td>0.0</td>\n",
       "      <td>19260000.00</td>\n",
       "      <td>0.0</td>\n",
       "      <td>0.0</td>\n",
       "      <td>19260000.00</td>\n",
       "      <td>20610000.00</td>\n",
       "      <td>0.0</td>\n",
       "      <td>0.0</td>\n",
       "      <td>0.0</td>\n",
       "      <td>0</td>\n",
       "      <td>30.102226</td>\n",
       "      <td>-81.713882</td>\n",
       "      <td>Commercial</td>\n",
       "      <td>Reinforced Concrete</td>\n",
       "      <td>1</td>\n",
       "    </tr>\n",
       "    <tr>\n",
       "      <td>8</td>\n",
       "      <td>433512</td>\n",
       "      <td>FL</td>\n",
       "      <td>CLAY COUNTY</td>\n",
       "      <td>315000.0</td>\n",
       "      <td>315000.00</td>\n",
       "      <td>315000.0</td>\n",
       "      <td>315000.0</td>\n",
       "      <td>315000.00</td>\n",
       "      <td>265821.57</td>\n",
       "      <td>0.0</td>\n",
       "      <td>15750.0</td>\n",
       "      <td>0.0</td>\n",
       "      <td>0</td>\n",
       "      <td>30.118774</td>\n",
       "      <td>-81.704613</td>\n",
       "      <td>Residential</td>\n",
       "      <td>Wood</td>\n",
       "      <td>1</td>\n",
       "    </tr>\n",
       "    <tr>\n",
       "      <td>11</td>\n",
       "      <td>894922</td>\n",
       "      <td>FL</td>\n",
       "      <td>CLAY COUNTY</td>\n",
       "      <td>0.0</td>\n",
       "      <td>24059.09</td>\n",
       "      <td>0.0</td>\n",
       "      <td>0.0</td>\n",
       "      <td>24059.09</td>\n",
       "      <td>33952.19</td>\n",
       "      <td>0.0</td>\n",
       "      <td>0.0</td>\n",
       "      <td>0.0</td>\n",
       "      <td>0</td>\n",
       "      <td>30.095957</td>\n",
       "      <td>-81.695099</td>\n",
       "      <td>Residential</td>\n",
       "      <td>Wood</td>\n",
       "      <td>1</td>\n",
       "    </tr>\n",
       "  </tbody>\n",
       "</table>\n",
       "</div>"
      ],
      "text/plain": [
       "    policyID statecode       county  eq_site_limit  hu_site_limit  \\\n",
       "1     448094        FL  CLAY COUNTY      1322376.3     1322376.30   \n",
       "5     785275        FL  CLAY COUNTY            0.0      515035.62   \n",
       "6     995932        FL  CLAY COUNTY            0.0    19260000.00   \n",
       "8     433512        FL  CLAY COUNTY       315000.0      315000.00   \n",
       "11    894922        FL  CLAY COUNTY            0.0       24059.09   \n",
       "\n",
       "    fl_site_limit  fr_site_limit     tiv_2011     tiv_2012  \\\n",
       "1       1322376.3      1322376.3   1322376.30   1438163.57   \n",
       "5             0.0            0.0    515035.62    884419.17   \n",
       "6             0.0            0.0  19260000.00  20610000.00   \n",
       "8        315000.0       315000.0    315000.00    265821.57   \n",
       "11            0.0            0.0     24059.09     33952.19   \n",
       "\n",
       "    eq_site_deductible  hu_site_deductible  fl_site_deductible  \\\n",
       "1                  0.0                 0.0                 0.0   \n",
       "5                  0.0                 0.0                 0.0   \n",
       "6                  0.0                 0.0                 0.0   \n",
       "8                  0.0             15750.0                 0.0   \n",
       "11                 0.0                 0.0                 0.0   \n",
       "\n",
       "    fr_site_deductible  point_latitude  point_longitude         line  \\\n",
       "1                    0       30.063936       -81.707664  Residential   \n",
       "5                    0       30.063236       -81.707703  Residential   \n",
       "6                    0       30.102226       -81.713882   Commercial   \n",
       "8                    0       30.118774       -81.704613  Residential   \n",
       "11                   0       30.095957       -81.695099  Residential   \n",
       "\n",
       "           construction  point_granularity  \n",
       "1               Masonry                  3  \n",
       "5               Masonry                  3  \n",
       "6   Reinforced Concrete                  1  \n",
       "8                  Wood                  1  \n",
       "11                 Wood                  1  "
      ]
     },
     "execution_count": 63,
     "metadata": {},
     "output_type": "execute_result"
    }
   ],
   "source": [
    "df[['policyID', 'statecode']]\n",
    "df[df['policyID'] > 400000].head()"
   ]
  },
  {
   "cell_type": "markdown",
   "metadata": {},
   "source": [
    "# Matplotlib"
   ]
  },
  {
   "cell_type": "code",
   "execution_count": 65,
   "metadata": {},
   "outputs": [],
   "source": [
    "import matplotlib.pyplot as plt"
   ]
  },
  {
   "cell_type": "code",
   "execution_count": 69,
   "metadata": {},
   "outputs": [
    {
     "data": {
      "text/plain": [
       "(0, 16)"
      ]
     },
     "execution_count": 69,
     "metadata": {},
     "output_type": "execute_result"
    },
    {
     "data": {
      "image/png": "[encoded data removed]",
      "text/plain": [
       "<Figure size 432x288 with 1 Axes>"
      ]
     },
     "metadata": {
      "needs_background": "light"
     },
     "output_type": "display_data"
    }
   ],
   "source": [
    "x = np.arange(0, 10)\n",
    "y = x ** 2\n",
    "plt.plot(x, y, 'r--')\n",
    "plt.xlim(0, 4)\n",
    "plt.ylim(0, 16)"
   ]
  },
  {
   "cell_type": "code",
   "execution_count": 74,
   "metadata": {},
   "outputs": [
    {
     "data": {
      "text/plain": [
       "<matplotlib.colorbar.Colorbar at 0x24b0320a4e0>"
      ]
     },
     "execution_count": 74,
     "metadata": {},
     "output_type": "execute_result"
    },
    {
     "data": {
      "image/png": "[encoded data removed]",
      "text/plain": [
       "<Figure size 432x288 with 2 Axes>"
      ]
     },
     "metadata": {
      "needs_background": "light"
     },
     "output_type": "display_data"
    }
   ],
   "source": [
    "mat = np.arange(0, 100).reshape(10, 10)\n",
    "plt.imshow(mat, cmap='hsv')\n",
    "plt.colorbar()"
   ]
  },
  {
   "cell_type": "code",
   "execution_count": 81,
   "metadata": {},
   "outputs": [
    {
     "data": {
      "text/plain": [
       "<matplotlib.axes._subplots.AxesSubplot at 0x24b05b80a90>"
      ]
     },
     "execution_count": 81,
     "metadata": {},
     "output_type": "execute_result"
    },
    {
     "data": {
      "image/png": "[encoded data removed]",
      "text/plain": [
       "<Figure size 432x288 with 1 Axes>"
      ]
     },
     "metadata": {
      "needs_background": "light"
     },
     "output_type": "display_data"
    }
   ],
   "source": [
    "df.plot(x='eq_site_limit', y='hu_site_limit', kind='scatter')"
   ]
  },
  {
   "cell_type": "markdown",
   "metadata": {},
   "source": [
    "# Scikit-Learn"
   ]
  },
  {
   "cell_type": "code",
   "execution_count": 91,
   "metadata": {},
   "outputs": [],
   "source": [
    "from sklearn.preprocessing import MinMaxScaler\n",
    "from sklearn.model_selection import train_test_split"
   ]
  },
  {
   "cell_type": "code",
   "execution_count": 84,
   "metadata": {},
   "outputs": [
    {
     "data": {
      "text/plain": [
       "array([[19, 79],\n",
       "       [70, 88],\n",
       "       [86, 11],\n",
       "       [65, 93],\n",
       "       [15, 51],\n",
       "       [98, 86],\n",
       "       [45, 63],\n",
       "       [42, 22],\n",
       "       [82, 40],\n",
       "       [44, 16]])"
      ]
     },
     "execution_count": 84,
     "metadata": {},
     "output_type": "execute_result"
    }
   ],
   "source": [
    "data = np.random.randint(0, 100, (10, 2))\n",
    "data"
   ]
  },
  {
   "cell_type": "code",
   "execution_count": 85,
   "metadata": {},
   "outputs": [
    {
     "data": {
      "text/plain": [
       "array([[0.04819277, 0.82926829],\n",
       "       [0.6626506 , 0.93902439],\n",
       "       [0.85542169, 0.        ],\n",
       "       [0.60240964, 1.        ],\n",
       "       [0.        , 0.48780488],\n",
       "       [1.        , 0.91463415],\n",
       "       [0.36144578, 0.63414634],\n",
       "       [0.3253012 , 0.13414634],\n",
       "       [0.80722892, 0.35365854],\n",
       "       [0.34939759, 0.06097561]])"
      ]
     },
     "execution_count": 85,
     "metadata": {},
     "output_type": "execute_result"
    }
   ],
   "source": [
    "mms = MinMaxScaler()\n",
    "mms.fit_transform(data)"
   ]
  },
  {
   "cell_type": "code",
   "execution_count": 88,
   "metadata": {},
   "outputs": [
    {
     "data": {
      "text/html": [
       "<div>\n",
       "<style scoped>\n",
       "    .dataframe tbody tr th:only-of-type {\n",
       "        vertical-align: middle;\n",
       "    }\n",
       "\n",
       "    .dataframe tbody tr th {\n",
       "        vertical-align: top;\n",
       "    }\n",
       "\n",
       "    .dataframe thead th {\n",
       "        text-align: right;\n",
       "    }\n",
       "</style>\n",
       "<table border=\"1\" class=\"dataframe\">\n",
       "  <thead>\n",
       "    <tr style=\"text-align: right;\">\n",
       "      <th></th>\n",
       "      <th>f1</th>\n",
       "      <th>f2</th>\n",
       "      <th>f3</th>\n",
       "      <th>label</th>\n",
       "    </tr>\n",
       "  </thead>\n",
       "  <tbody>\n",
       "    <tr>\n",
       "      <td>0</td>\n",
       "      <td>64</td>\n",
       "      <td>7</td>\n",
       "      <td>29</td>\n",
       "      <td>55</td>\n",
       "    </tr>\n",
       "    <tr>\n",
       "      <td>1</td>\n",
       "      <td>28</td>\n",
       "      <td>99</td>\n",
       "      <td>43</td>\n",
       "      <td>98</td>\n",
       "    </tr>\n",
       "    <tr>\n",
       "      <td>2</td>\n",
       "      <td>55</td>\n",
       "      <td>5</td>\n",
       "      <td>50</td>\n",
       "      <td>92</td>\n",
       "    </tr>\n",
       "    <tr>\n",
       "      <td>3</td>\n",
       "      <td>63</td>\n",
       "      <td>52</td>\n",
       "      <td>34</td>\n",
       "      <td>98</td>\n",
       "    </tr>\n",
       "    <tr>\n",
       "      <td>4</td>\n",
       "      <td>83</td>\n",
       "      <td>77</td>\n",
       "      <td>37</td>\n",
       "      <td>89</td>\n",
       "    </tr>\n",
       "  </tbody>\n",
       "</table>\n",
       "</div>"
      ],
      "text/plain": [
       "   f1  f2  f3  label\n",
       "0  64   7  29     55\n",
       "1  28  99  43     98\n",
       "2  55   5  50     92\n",
       "3  63  52  34     98\n",
       "4  83  77  37     89"
      ]
     },
     "execution_count": 88,
     "metadata": {},
     "output_type": "execute_result"
    }
   ],
   "source": [
    "df2 = pd.DataFrame(data=np.random.randint(0, 100, (50, 4)), columns=['f1', 'f2', 'f3', 'label'])\n",
    "df2.head()"
   ]
  },
  {
   "cell_type": "code",
   "execution_count": 92,
   "metadata": {},
   "outputs": [],
   "source": [
    "X = df2.iloc[:, :3]\n",
    "Y = df2.iloc[:, -1]\n",
    "\n",
    "X_train, X_test, y_train, y_test = train_test_split(X, Y, test_size=0.3, random_state=101)"
   ]
  },
  {
   "cell_type": "code",
   "execution_count": 93,
   "metadata": {},
   "outputs": [
    {
     "data": {
      "text/plain": [
       "(35, 3)"
      ]
     },
     "execution_count": 93,
     "metadata": {},
     "output_type": "execute_result"
    }
   ],
   "source": [
    "X_train.shape"
   ]
  },
  {
   "cell_type": "code",
   "execution_count": 95,
   "metadata": {},
   "outputs": [
    {
     "data": {
      "text/plain": [
       "(15, 3)"
      ]
     },
     "execution_count": 95,
     "metadata": {},
     "output_type": "execute_result"
    }
   ],
   "source": [
    "X_test.shape"
   ]
  },
  {
   "cell_type": "code",
   "execution_count": null,
   "metadata": {},
   "outputs": [],
   "source": []
  }
 ],
 "metadata": {
  "kernelspec": {
   "display_name": "Python 3",
   "language": "python",
   "name": "python3"
  },
  "language_info": {
   "codemirror_mode": {
    "name": "ipython",
    "version": 3
   },
   "file_extension": ".py",
   "mimetype": "text/x-python",
   "name": "python",
   "nbconvert_exporter": "python",
   "pygments_lexer": "ipython3",
   "version": "3.6.9"
  }
 },
 "nbformat": 4,
 "nbformat_minor": 2
}
