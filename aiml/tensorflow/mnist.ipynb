{
 "cells": [
  {
   "cell_type": "markdown",
   "metadata": {},
   "source": [
    "# MNIST Dataset"
   ]
  },
  {
   "cell_type": "code",
   "execution_count": 9,
   "metadata": {},
   "outputs": [],
   "source": [
    "import numpy as np\n",
    "import pandas as pd\n",
    "import matplotlib.pyplot as plt\n",
    "\n",
    "import tensorflow as tf\n",
    "\n",
    "from tensorflow.examples.tutorials.mnist import input_data"
   ]
  },
  {
   "cell_type": "code",
   "execution_count": 10,
   "metadata": {},
   "outputs": [
    {
     "name": "stdout",
     "output_type": "stream",
     "text": [
      "Extracting data/train-images-idx3-ubyte.gz\n",
      "Extracting data/train-labels-idx1-ubyte.gz\n",
      "Extracting data/t10k-images-idx3-ubyte.gz\n",
      "Extracting data/t10k-labels-idx1-ubyte.gz\n",
      "55000\n",
      "10000\n",
      "5000\n"
     ]
    }
   ],
   "source": [
    "# Importing input_data\n",
    "mnist = input_data.read_data_sets(train_dir='data/', one_hot=True)\n",
    "print(mnist.train.num_examples)\n",
    "print(mnist.test.num_examples)\n",
    "print(mnist.validation.num_examples)"
   ]
  },
  {
   "cell_type": "code",
   "execution_count": 11,
   "metadata": {},
   "outputs": [
    {
     "data": {
      "text/plain": [
       "<matplotlib.image.AxesImage at 0x16a95b73288>"
      ]
     },
     "execution_count": 11,
     "metadata": {},
     "output_type": "execute_result"
    },
    {
     "data": {
      "image/png": "[encoded data removed]",
      "text/plain": [
       "<Figure size 432x288 with 1 Axes>"
      ]
     },
     "metadata": {
      "needs_background": "light"
     },
     "output_type": "display_data"
    }
   ],
   "source": [
    "plt.imshow(mnist.train.images[0].reshape(28, 28), cmap='gist_gray')"
   ]
  },
  {
   "cell_type": "markdown",
   "metadata": {},
   "source": [
    "## Simple ANN"
   ]
  },
  {
   "cell_type": "code",
   "execution_count": 12,
   "metadata": {},
   "outputs": [],
   "source": [
    "# Placeholders\n",
    "x = tf.placeholder(dtype=tf.float32, shape=(None, 784))\n",
    "y_true = tf.placeholder(dtype=tf.float32, shape=(None, 10))\n",
    "\n",
    "# Variables\n",
    "W = tf.Variable(initial_value=tf.zeros(shape=(784, 10)))\n",
    "b = tf.Variable(initial_value=tf.zeros(shape=(10)))\n",
    "\n",
    "# Operations\n",
    "y = tf.matmul(x, W) + b\n",
    "\n",
    "# Loss Functions\n",
    "cross_entropy = tf.reduce_mean(\n",
    "    input_tensor=tf.nn.softmax_cross_entropy_with_logits_v2(\n",
    "        labels=y_true, \n",
    "        logits=y\n",
    "    )\n",
    ")\n",
    "\n",
    "# Optimizer\n",
    "optimizer = tf.train.GradientDescentOptimizer(learning_rate=0.5)\n",
    "train = optimizer.minimize(cross_entropy)"
   ]
  },
  {
   "cell_type": "code",
   "execution_count": 15,
   "metadata": {},
   "outputs": [
    {
     "name": "stdout",
     "output_type": "stream",
     "text": [
      "0 /1000\n",
      "500 /1000\n",
      "0.918\n"
     ]
    }
   ],
   "source": [
    "# Create and Run Session\n",
    "with tf.Session() as sess:\n",
    "    \n",
    "    sess.run(tf.global_variables_initializer())\n",
    "    \n",
    "    for step in range(1000):\n",
    "        if step % 500 == 0:\n",
    "            print(step,'/1000')\n",
    "        batch_x, batch_y = mnist.train.next_batch(batch_size=100)\n",
    "        sess.run(train, feed_dict={x: batch_x, y_true:batch_y})\n",
    "        \n",
    "    correct_prediction = tf.equal(\n",
    "        tf.argmax(y, axis=1), \n",
    "        tf.argmax(y_true, axis=1)\n",
    "    )\n",
    "    acc = tf.reduce_mean(tf.cast(correct_prediction, tf.float32))\n",
    "    \n",
    "    print(sess.run(\n",
    "        acc, \n",
    "        feed_dict={x:mnist.test.images, y_true:mnist.test.labels}\n",
    "    ))"
   ]
  },
  {
   "cell_type": "markdown",
   "metadata": {},
   "source": [
    "## CNN"
   ]
  },
  {
   "cell_type": "code",
   "execution_count": 28,
   "metadata": {},
   "outputs": [],
   "source": [
    "# Helper functions\n",
    "def init_weights(shape):\n",
    "    init_random_dist = tf.truncated_normal(shape=shape, stddev=0.1)\n",
    "    return tf.Variable(init_random_dist)\n",
    "\n",
    "def init_bias(shape):\n",
    "    init_bias_vals = tf.constant(0.1, shape=shape)\n",
    "    return tf.Variable(init_bias_vals)\n",
    "\n",
    "def conv2d(x, W):\n",
    "    return tf.nn.conv2d(x, W, strides=1, padding='SAME')\n",
    "\n",
    "def max_pool_2by2(x):\n",
    "    return tf.nn.max_pool(\n",
    "        value=x, \n",
    "        ksize=[1, 2, 2, 1], \n",
    "        strides=[1, 2, 2, 1], \n",
    "        padding='SAME'\n",
    "    )\n",
    "\n",
    "def conv_layer(input_x, shape):\n",
    "    W = init_weights(shape)\n",
    "    b = init_bias([shape[3]])\n",
    "    return tf.nn.relu(conv2d(input_x, W) + b)\n",
    "\n",
    "def dense_layer(input_layer, size):\n",
    "    input_size = int(input_layer.shape[1])\n",
    "    W = init_weights([input_size, size])\n",
    "    b = init_bias([size])\n",
    "    return tf.matmul(input_layer, W) + b"
   ]
  },
  {
   "cell_type": "code",
   "execution_count": 30,
   "metadata": {},
   "outputs": [],
   "source": [
    "# Placeholders\n",
    "x = tf.placeholder(tf.float32, shape=(None, 784))\n",
    "y_true = tf.placeholder(tf.float32, shape=(None, 10))\n",
    "dropout_prob = tf.placeholder(tf.float32)\n",
    "\n",
    "x_img = tf.reshape(x, [-1, 28, 28, 1])\n",
    "\n",
    "# Layers\n",
    "conv_1 = conv_layer(x_img, shape=[5, 5, 1, 32])\n",
    "conv_1_maxpool = max_pool_2by2(conv_1)\n",
    "conv_2 = conv_layer(conv_1_maxpool, shape=[5, 5, 32, 64])\n",
    "conv_2_maxpool = max_pool_2by2(conv_2)\n",
    "conv_2_flat = tf.reshape(conv_2_maxpool, shape=[-1, 7 * 7 * 64])\n",
    "dense_1 = tf.nn.relu(dense_layer(conv_2_flat, size=1024))\n",
    "dense_1_dropout = tf.nn.dropout(dense_1, rate=dropout_prob)\n",
    "y_pred = dense_layer(dense_1_dropout, size=10)\n",
    "\n",
    "# Losses\n",
    "cross_entropy = tf.reduce_mean(\n",
    "    tf.nn.softmax_cross_entropy_with_logits_v2(\n",
    "        labels=y_true,\n",
    "        logits=y_pred\n",
    "    )\n",
    ")\n",
    "optimizer = tf.train.AdamOptimizer(learning_rate=0.001)\n",
    "train = optimizer.minimize(cross_entropy)"
   ]
  },
  {
   "cell_type": "code",
   "execution_count": 36,
   "metadata": {},
   "outputs": [
    {
     "name": "stdout",
     "output_type": "stream",
     "text": [
      "On step: 10\n",
      "Accuracy: 0.47350001335144043\n",
      "On step: 20\n",
      "Accuracy: 0.6651999950408936\n",
      "On step: 30\n",
      "Accuracy: 0.8331000208854675\n",
      "On step: 40\n",
      "Accuracy: 0.8736000061035156\n",
      "On step: 50\n",
      "Accuracy: 0.9049999713897705\n",
      "On step: 60\n",
      "Accuracy: 0.9136000275611877\n",
      "On step: 70\n",
      "Accuracy: 0.9229999780654907\n",
      "On step: 80\n",
      "Accuracy: 0.9381999969482422\n",
      "On step: 90\n",
      "Accuracy: 0.940500020980835\n",
      "On step: 100\n",
      "Accuracy: 0.941100001335144\n",
      "Final Accuracy: 94.1100001335144%\n"
     ]
    }
   ],
   "source": [
    "steps = 100\n",
    "\n",
    "with tf.Session() as sess:\n",
    "    sess.run(tf.global_variables_initializer())\n",
    "    for i in range(steps):\n",
    "        batch_x, batch_y = mnist.train.next_batch(50)\n",
    "        sess.run(train, feed_dict={x:batch_x, y_true:batch_y, dropout_prob:0.5})\n",
    "        if (i + 1) % 10 == 0:\n",
    "            matches = tf.equal(\n",
    "                tf.argmax(y_true, axis=1), tf.argmax(y_pred, axis=1)\n",
    "            )\n",
    "            accuracy = sess.run(\n",
    "                tf.reduce_mean(\n",
    "                    tf.cast(matches, tf.float32)\n",
    "                ), \n",
    "                feed_dict={\n",
    "                    x:mnist.test.images, \n",
    "                    y_true:mnist.test.labels,\n",
    "                    dropout_prob:0.0\n",
    "                }\n",
    "            )\n",
    "            print('On step: {}'.format(i + 1))\n",
    "            print('Accuracy: {}'.format(accuracy))\n",
    "    print('Final Accuracy: {}%'.format(accuracy * 100))"
   ]
  },
  {
   "cell_type": "code",
   "execution_count": null,
   "metadata": {},
   "outputs": [],
   "source": []
  },
  {
   "cell_type": "code",
   "execution_count": null,
   "metadata": {},
   "outputs": [],
   "source": []
  },
  {
   "cell_type": "code",
   "execution_count": null,
   "metadata": {},
   "outputs": [],
   "source": []
  },
  {
   "cell_type": "code",
   "execution_count": null,
   "metadata": {},
   "outputs": [],
   "source": []
  },
  {
   "cell_type": "code",
   "execution_count": null,
   "metadata": {},
   "outputs": [],
   "source": []
  },
  {
   "cell_type": "code",
   "execution_count": null,
   "metadata": {},
   "outputs": [],
   "source": []
  },
  {
   "cell_type": "code",
   "execution_count": null,
   "metadata": {},
   "outputs": [],
   "source": []
  }
 ],
 "metadata": {
  "kernelspec": {
   "display_name": "Python 3",
   "language": "python",
   "name": "python3"
  },
  "language_info": {
   "codemirror_mode": {
    "name": "ipython",
    "version": 3
   },
   "file_extension": ".py",
   "mimetype": "text/x-python",
   "name": "python",
   "nbconvert_exporter": "python",
   "pygments_lexer": "ipython3",
   "version": "3.7.4"
  }
 },
 "nbformat": 4,
 "nbformat_minor": 2
}
