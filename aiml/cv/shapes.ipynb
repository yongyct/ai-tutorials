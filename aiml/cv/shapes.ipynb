{
 "cells": [
  {
   "cell_type": "markdown",
   "metadata": {},
   "source": [
    "# Drawing shapes with opencv2"
   ]
  },
  {
   "cell_type": "code",
   "execution_count": 1,
   "metadata": {},
   "outputs": [],
   "source": [
    "import cv2\n",
    "import numpy as np\n",
    "import matplotlib.pyplot as plt"
   ]
  },
  {
   "cell_type": "code",
   "execution_count": 14,
   "metadata": {},
   "outputs": [
    {
     "name": "stdout",
     "output_type": "stream",
     "text": [
      "(512, 512, 3)\n"
     ]
    }
   ],
   "source": [
    "blank_img = np.zeros(shape=(512, 512, 3), dtype=np.int16)\n",
    "print(blank_img.shape)"
   ]
  },
  {
   "cell_type": "code",
   "execution_count": 4,
   "metadata": {},
   "outputs": [
    {
     "data": {
      "text/plain": [
       "<matplotlib.image.AxesImage at 0x2465170c710>"
      ]
     },
     "execution_count": 4,
     "metadata": {},
     "output_type": "execute_result"
    },
    {
     "data": {
      "image/png": "[encoded data removed]",
      "text/plain": [
       "<Figure size 432x288 with 1 Axes>"
      ]
     },
     "metadata": {
      "needs_background": "light"
     },
     "output_type": "display_data"
    }
   ],
   "source": [
    "plt.imshow(blank_img)"
   ]
  },
  {
   "cell_type": "code",
   "execution_count": 48,
   "metadata": {},
   "outputs": [],
   "source": [
    "# Green rect\n",
    "cv2.rectangle(\n",
    "    blank_img, \n",
    "    pt1=(384, 10), \n",
    "    pt2=(500, 100), \n",
    "    color=(0, 0, 255), \n",
    "    thickness=10\n",
    ");\n",
    "# blue sq\n",
    "cv2.rectangle(\n",
    "    blank_img, \n",
    "    pt1=(200, 200), \n",
    "    pt2=(300, 300), \n",
    "    color=(0, 255, 0), \n",
    "    thickness=10\n",
    ");\n",
    "# red circle filled\n",
    "cv2.circle(\n",
    "    img=blank_img, \n",
    "    center=(100, 100), \n",
    "    radius=50, \n",
    "    color=(255, 0, 0), \n",
    "    thickness=-1\n",
    ");\n",
    "# line\n",
    "cv2.line(\n",
    "    blank_img, \n",
    "    pt1=(0, 0), \n",
    "    pt2=(512, 512), \n",
    "    color=(0, 255, 255), \n",
    "    thickness=5\n",
    ");\n",
    "# Text\n",
    "cv2.putText(\n",
    "    blank_img, \n",
    "    text='Hello', \n",
    "    org=(10, 500), \n",
    "    fontFace=cv2.FONT_HERSHEY_SIMPLEX, \n",
    "    fontScale=2, \n",
    "    color=(255, 255, 255), \n",
    "    thickness=3\n",
    ");\n",
    "\n",
    "# Custom polygon, shape needed = (#pts, #channels, #xydim=2)\n",
    "vertices = np.array(\n",
    "    [[400, 350], [450, 400], [400, 450], [350, 400]], \n",
    "    dtype=np.int32\n",
    ").reshape((-1, 1, 2))\n",
    "cv2.polylines(\n",
    "    blank_img, \n",
    "    [vertices], \n",
    "    isClosed=True, \n",
    "    color=(255, 255, 0),\n",
    "    thickness=10\n",
    ");\n",
    "cv2.fillPoly(\n",
    "    blank_img,\n",
    "    [vertices],\n",
    "    (255, 255, 0)\n",
    ");"
   ]
  },
  {
   "cell_type": "code",
   "execution_count": 49,
   "metadata": {},
   "outputs": [
    {
     "data": {
      "text/plain": [
       "<matplotlib.image.AxesImage at 0x1f0754681d0>"
      ]
     },
     "execution_count": 49,
     "metadata": {},
     "output_type": "execute_result"
    },
    {
     "data": {
      "image/png": "[encoded data removed]",
      "text/plain": [
       "<Figure size 432x288 with 1 Axes>"
      ]
     },
     "metadata": {
      "needs_background": "light"
     },
     "output_type": "display_data"
    }
   ],
   "source": [
    "plt.imshow(blank_img)"
   ]
  },
  {
   "cell_type": "markdown",
   "metadata": {},
   "source": [
    "## Drawing with a mouse"
   ]
  },
  {
   "cell_type": "markdown",
   "metadata": {},
   "source": [
    "### Drawing dots with mouse clicks"
   ]
  },
  {
   "cell_type": "code",
   "execution_count": 31,
   "metadata": {},
   "outputs": [],
   "source": [
    "# Blank canvas\n",
    "img = np.zeros((512, 512, 3))\n",
    "\n",
    "# define callback function on mouse click event\n",
    "def draw_circle(event, x, y, flags, param):\n",
    "    \n",
    "    if event == cv2.EVENT_LBUTTONDOWN:\n",
    "        cv2.circle(\n",
    "            img, \n",
    "            center=(x, y),\n",
    "            radius=50,\n",
    "            color=(255, 0, 255),\n",
    "            thickness=-1\n",
    "        )\n",
    "    elif event == cv2.EVENT_RBUTTONDOWN:\n",
    "        cv2.circle(\n",
    "            img,\n",
    "            center=(x, y),\n",
    "            radius=50,\n",
    "            color=(0, 255, 255),\n",
    "            thickness=-1\n",
    "        )\n",
    "\n",
    "# set img window context, with the callback\n",
    "cv2.namedWindow(winname='my_drawing')\n",
    "cv2.setMouseCallback(\n",
    "    window_name='my_drawing', \n",
    "    on_mouse=draw_circle\n",
    ")\n",
    "\n",
    "# loop to show canvas in another window\n",
    "while True:\n",
    "    cv2.imshow('my_drawing', img)\n",
    "    if cv2.waitKey(1) & 0xFF == ord('q'):\n",
    "        break\n",
    "cv2.destroyAllWindows()"
   ]
  },
  {
   "cell_type": "markdown",
   "metadata": {},
   "source": [
    "### Drawing shapes with with mouse drags"
   ]
  },
  {
   "cell_type": "code",
   "execution_count": 46,
   "metadata": {},
   "outputs": [],
   "source": [
    "# init canvas\n",
    "img = np.zeros((512, 512, 3))\n",
    "\n",
    "# Variables\n",
    "## True while mouse down, else false when up\n",
    "drawing = False\n",
    "ix = -1\n",
    "iy = -1\n",
    "\n",
    "# Callback func on mouse\n",
    "def draw_rectangle(event, x, y, flags, param):\n",
    "    global ix, iy, drawing\n",
    "    \n",
    "    if event == cv2.EVENT_LBUTTONDOWN:\n",
    "        drawing = True\n",
    "        ix, iy = x, y\n",
    "    elif event == cv2.EVENT_MOUSEMOVE:\n",
    "        if drawing:\n",
    "            cv2.rectangle(\n",
    "                img,\n",
    "                pt1=(ix, iy),\n",
    "                pt2=(x, y),\n",
    "                color=(0, 255, 255),\n",
    "                thickness=-1\n",
    "            )\n",
    "    elif event == cv2.EVENT_LBUTTONUP:\n",
    "        drawing == False\n",
    "        cv2.rectangle(\n",
    "            img,\n",
    "            pt1=(ix, iy),\n",
    "            pt2=(x, y),\n",
    "            color=(0, 255, 255),\n",
    "            thickness=-1\n",
    "        )\n",
    "        \n",
    "\n",
    "# Set imgae window context with callbacks\n",
    "cv2.namedWindow(winname='my_drawing')\n",
    "cv2.setMouseCallback(\n",
    "    window_name='my_drawing',\n",
    "    on_mouse=draw_rectangle\n",
    ")\n",
    "\n",
    "# loop to show window\n",
    "while True:\n",
    "    cv2.imshow('my_drawing', img)\n",
    "    if cv2.waitKey(1) & 0xFF == ord('q'):\n",
    "        break\n",
    "cv2.destroyAllWindows()"
   ]
  },
  {
   "cell_type": "code",
   "execution_count": null,
   "metadata": {},
   "outputs": [],
   "source": []
  }
 ],
 "metadata": {
  "kernelspec": {
   "display_name": "Python 3",
   "language": "python",
   "name": "python3"
  },
  "language_info": {
   "codemirror_mode": {
    "name": "ipython",
    "version": 3
   },
   "file_extension": ".py",
   "mimetype": "text/x-python",
   "name": "python",
   "nbconvert_exporter": "python",
   "pygments_lexer": "ipython3",
   "version": "3.6.9"
  }
 },
 "nbformat": 4,
 "nbformat_minor": 4
}
