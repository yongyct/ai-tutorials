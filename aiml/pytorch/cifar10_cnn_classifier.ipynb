{
 "cells": [
  {
   "cell_type": "code",
   "execution_count": 1,
   "metadata": {},
   "outputs": [],
   "source": [
    "import torch\n",
    "import torch.nn as nn\n",
    "import torch.nn.functional as F\n",
    "import torch.optim as optim"
   ]
  },
  {
   "cell_type": "markdown",
   "metadata": {},
   "source": [
    "# Example of CNN"
   ]
  },
  {
   "cell_type": "code",
   "execution_count": 3,
   "metadata": {},
   "outputs": [],
   "source": [
    "class Net(nn.Module):\n",
    "    '''\n",
    "    Custom neural network class to implement CNN topology\n",
    "    '''\n",
    "    def __init__(self):\n",
    "        super(Net, self).__init__()\n",
    "        self.conv1 = nn.Conv2d(in_channels=3, out_channels=6, kernel_size=5)\n",
    "        self.conv2 = nn.Conv2d(in_channels=6, out_channels=16, kernel_size=5)\n",
    "        self.fc1 = nn.Linear(in_features=16 * 5 * 5, out_features=120)\n",
    "        self.fc2 = nn.Linear(in_features=120, out_features=84)\n",
    "        self.fc3 = nn.Linear(in_features=84, out_features=10)\n",
    "        \n",
    "    def forward(self, x):\n",
    "        x = self.conv1(x)\n",
    "        x = F.relu(x)\n",
    "        x = F.max_pool2d(x, 2)\n",
    "        x = self.conv2(x)\n",
    "        x = F.relu(x)\n",
    "        x = F.max_pool2d(x, 2)\n",
    "        x = x.view(-1, 16 * 5 * 5)\n",
    "        x = self.fc1(x)\n",
    "        x = F.relu(x)\n",
    "        x = self.fc2(x)\n",
    "        x = F.relu(x)\n",
    "        x = self.fc3(x)\n",
    "        x = F.log_softmax(x, dim=1)\n",
    "        x = torch.exp(x)\n",
    "        return x\n",
    "        \n",
    "#     def num_flat_features(self, x):\n",
    "#         size = x.size()[1:]\n",
    "#         num_features = 1\n",
    "#         for s in size:\n",
    "#             num_features *= s\n",
    "#         return num_features"
   ]
  },
  {
   "cell_type": "code",
   "execution_count": 161,
   "metadata": {},
   "outputs": [
    {
     "name": "stdout",
     "output_type": "stream",
     "text": [
      "My CNN:  Net(\n",
      "  (conv1): Conv2d(1, 6, kernel_size=(3, 3), stride=(1, 1))\n",
      "  (conv2): Conv2d(6, 16, kernel_size=(3, 3), stride=(1, 1))\n",
      "  (fc1): Linear(in_features=576, out_features=120, bias=True)\n",
      "  (fc2): Linear(in_features=120, out_features=84, bias=True)\n",
      "  (fc3): Linear(in_features=84, out_features=10, bias=True)\n",
      ")\n",
      "Num of parameter sets:  10\n",
      "Num of parameters in set 1: torch.Size([6, 1, 3, 3])\n",
      "Num of parameters in set 2: torch.Size([6])\n",
      "Num of parameters in set 3: torch.Size([16, 6, 3, 3])\n",
      "Num of parameters in set 4: torch.Size([16])\n",
      "Num of parameters in set 5: torch.Size([120, 576])\n",
      "Num of parameters in set 6: torch.Size([120])\n",
      "Num of parameters in set 7: torch.Size([84, 120])\n",
      "Num of parameters in set 8: torch.Size([84])\n",
      "Num of parameters in set 9: torch.Size([10, 84])\n",
      "Num of parameters in set 10: torch.Size([10])\n"
     ]
    }
   ],
   "source": [
    "net = Net()\n",
    "print('My CNN: ', net)\n",
    "params = list(net.parameters())\n",
    "print('Num of parameter sets: ', len(params))\n",
    "for i, param in enumerate(params):\n",
    "    print('Num of parameters in set {}: {}'.format(i + 1, params[i].size()))"
   ]
  },
  {
   "cell_type": "code",
   "execution_count": 179,
   "metadata": {},
   "outputs": [
    {
     "name": "stdout",
     "output_type": "stream",
     "text": [
      "tensor([[0.1096, 0.0982, 0.1040, 0.0885, 0.1058, 0.0979, 0.1051, 0.0985, 0.0892,\n",
      "         0.1032]], grad_fn=<ExpBackward>) argmax=0\n"
     ]
    }
   ],
   "source": [
    "img_in = torch.randn(1, 1, 32, 32)\n",
    "out = net(img_in)\n",
    "print(out, 'argmax={}'.format(out.argmax()))\n",
    "net.zero_grad()\n",
    "out.backward(torch.rand(1, 10))"
   ]
  },
  {
   "cell_type": "code",
   "execution_count": 204,
   "metadata": {},
   "outputs": [
    {
     "name": "stdout",
     "output_type": "stream",
     "text": [
      "tensor(0.9224, grad_fn=<MseLossBackward>)\n",
      "<MseLossBackward object at 0x0000028EC615B8C8>\n",
      "<ExpBackward object at 0x0000028EC60DC208>\n",
      "<AccumulateGrad object at 0x0000028EC615B8C8>\n",
      "conv1.bias.grad before backward: tensor([0., 0., 0., 0., 0., 0.])\n",
      "conv1.bias.grad after backward: tensor([-0.0072,  0.0012, -0.0001,  0.0004,  0.0315,  0.0117])\n",
      "net params before optim: tensor([[[-0.1985, -0.2148, -0.0689],\n",
      "         [ 0.0532, -0.1667, -0.2425],\n",
      "         [ 0.2091,  0.1966,  0.2953]]], grad_fn=<SelectBackward>)\n",
      "net params after optim: tensor([[[-0.1885, -0.2048, -0.0589],\n",
      "         [ 0.0432, -0.1567, -0.2326],\n",
      "         [ 0.2191,  0.1866,  0.2853]]], grad_fn=<SelectBackward>)\n"
     ]
    }
   ],
   "source": [
    "optimizer = optim.Adam(params=params, lr=0.01)\n",
    "\n",
    "### to set zero grad before every backward/update loop\n",
    "optimizer.zero_grad()\n",
    "\n",
    "output = net(img_in)\n",
    "target = torch.randn(10)\n",
    "target = target.view(1, -1)\n",
    "criterion = nn.MSELoss()\n",
    "\n",
    "loss = criterion(output, target)\n",
    "print(loss)\n",
    "print(loss.grad_fn)\n",
    "print(loss.grad_fn.next_functions[0][0])\n",
    "print(loss.grad_fn.next_functions[0][0].next_functions[0][0].next_functions[0][0].next_functions[0][0])\n",
    "net.zero_grad()\n",
    "print('conv1.bias.grad before backward:', net.conv1.bias.grad)\n",
    "loss.backward()\n",
    "print('conv1.bias.grad after backward:', net.conv1.bias.grad)\n",
    "\n",
    "print('net params before optim:', params[0][0])\n",
    "\n",
    "optimizer.step()\n",
    "\n",
    "print('net params after optim:', params[0][0])"
   ]
  },
  {
   "cell_type": "markdown",
   "metadata": {},
   "source": [
    "# Example CNN with Real Dataset"
   ]
  },
  {
   "cell_type": "code",
   "execution_count": 4,
   "metadata": {},
   "outputs": [],
   "source": [
    "import numpy as np\n",
    "import matplotlib.pyplot as plt\n",
    "\n",
    "import torchvision\n",
    "import torchvision.transforms as transforms"
   ]
  },
  {
   "cell_type": "code",
   "execution_count": 5,
   "metadata": {},
   "outputs": [
    {
     "name": "stdout",
     "output_type": "stream",
     "text": [
      "Downloading https://www.cs.toronto.edu/~kriz/cifar-10-python.tar.gz to ./data\\cifar-10-python.tar.gz\n"
     ]
    },
    {
     "name": "stderr",
     "output_type": "stream",
     "text": [
      "97.0%"
     ]
    },
    {
     "name": "stdout",
     "output_type": "stream",
     "text": [
      "Files already downloaded and verified\n"
     ]
    }
   ],
   "source": [
    "transform = transforms.Compose(\n",
    "    [\n",
    "        transforms.ToTensor(),\n",
    "        transforms.Normalize((0.5, 0.5, 0.5), (0.5, 0.5, 0.5))\n",
    "    ]\n",
    ")\n",
    "\n",
    "### Set download=True for trainset and testset below if using dataset does not exist in local\n",
    "trainset = torchvision.datasets.CIFAR10(root='./data', train=True, download=False, transform=transform)\n",
    "trainloader = torch.utils.data.DataLoader(trainset, batch_size=4, shuffle=True, num_workers=2)\n",
    "testset = torchvision.datasets.CIFAR10(root='./data', train=False, download=False, transform=transform)\n",
    "testloader = torch.utils.data.DataLoader(testset, batch_size=4, shuffle=False, num_workers=2)\n",
    "\n",
    "classes = ('plane', 'car', 'bird', 'cat', 'deer', 'dog', 'frog', 'horse', 'ship', 'truck')"
   ]
  },
  {
   "cell_type": "code",
   "execution_count": 7,
   "metadata": {},
   "outputs": [],
   "source": [
    "### Helper function to display image from torchvision\n",
    "def imshow(img):\n",
    "    img = img / 2 + 0.5\n",
    "    npimg = img.numpy()\n",
    "    plt.imshow(np.transpose(npimg, (1, 2, 0)))\n",
    "    plt.show()"
   ]
  },
  {
   "cell_type": "code",
   "execution_count": 18,
   "metadata": {
    "scrolled": true
   },
   "outputs": [
    {
     "data": {
      "image/png": "[encoded data removed]",
      "text/plain": [
       "<Figure size 432x288 with 1 Axes>"
      ]
     },
     "metadata": {
      "needs_background": "light"
     },
     "output_type": "display_data"
    },
    {
     "name": "stdout",
     "output_type": "stream",
     "text": [
      "  cat   cat horse horse\n"
     ]
    }
   ],
   "source": [
    "dataiter = iter(trainloader)\n",
    "# each iter of trainloader is 4 images, 4 labels\n",
    "# each image in images is a 3 X 32 X 32 tensor\n",
    "# each label is a 1 X 4 tensor, int type, corresponding to classes position above\n",
    "images, labels = dataiter.next()\n",
    "\n",
    "# make_grid makes an image arranged by (3 RGB Chans, H, W)\n",
    "# to transpose data to imshow standard of (H, W, 3 RGB Chans)\n",
    "imshow(torchvision.utils.make_grid(images))\n",
    "print(' '.join('%5s' % classes[labels[j]] for j in range(4)))"
   ]
  },
  {
   "cell_type": "code",
   "execution_count": 44,
   "metadata": {},
   "outputs": [],
   "source": [
    "### Define net & net params ###\n",
    "net = Net()\n",
    "params = list(net.parameters())\n",
    "\n",
    "### Set loss to be backpropagated for gradient calc, & optimizer to be used for latter ###\n",
    "criterion = nn.CrossEntropyLoss()\n",
    "optimizer = optim.Adam(params=params, lr=0.001)"
   ]
  },
  {
   "cell_type": "code",
   "execution_count": 46,
   "metadata": {},
   "outputs": [
    {
     "name": "stdout",
     "output_type": "stream",
     "text": [
      "[1,  2000] loss: 1.904\n",
      "[1,  4000] loss: 1.633\n",
      "[1,  6000] loss: 1.540\n",
      "[1,  8000] loss: 1.473\n",
      "[1, 10000] loss: 1.431\n",
      "[1, 12000] loss: 1.416\n",
      "[2,  2000] loss: 1.329\n",
      "[2,  4000] loss: 1.301\n",
      "[2,  6000] loss: 1.306\n",
      "[2,  8000] loss: 1.282\n",
      "[2, 10000] loss: 1.258\n",
      "[2, 12000] loss: 1.272\n",
      "Finished training\n",
      "Wall time: 5min 31s\n"
     ]
    }
   ],
   "source": [
    "%%time\n",
    "### Iterate over n (=2) epochs\n",
    "for epoch in range(2):\n",
    "    ### Instantiate loss for epoch session \n",
    "    running_loss = 0.0\n",
    "    for i, data in enumerate(trainloader, 0):\n",
    "        ### 4 inputs & labels at a time\n",
    "        inputs, labels = data\n",
    "        \n",
    "        ### reset optimizer to zero\n",
    "        optimizer.zero_grad()\n",
    "        \n",
    "        ### predict outputs using net\n",
    "        outputs = net(inputs)\n",
    "        \n",
    "        ### calculate loss\n",
    "        loss = criterion(outputs, labels)\n",
    "        \n",
    "        ### backpropagate and get gradient\n",
    "        loss.backward()\n",
    "        \n",
    "        ### optimizer to update its params with gradient (dloss/dparams) with which it was instantiated with\n",
    "        optimizer.step()\n",
    "        \n",
    "        running_loss += loss.item()\n",
    "        if i % 2000 == 1999:\n",
    "            print('[%d, %5d] loss: %.3f' % (epoch + 1, i + 1, running_loss / 2000))\n",
    "            running_loss = 0.0\n",
    "\n",
    "print('Finished training')"
   ]
  },
  {
   "cell_type": "code",
   "execution_count": 47,
   "metadata": {},
   "outputs": [
    {
     "data": {
      "image/png": "[encoded data removed]",
      "text/plain": [
       "<Figure size 432x288 with 1 Axes>"
      ]
     },
     "metadata": {
      "needs_background": "light"
     },
     "output_type": "display_data"
    },
    {
     "name": "stdout",
     "output_type": "stream",
     "text": [
      "  cat,  ship,  ship, plane\n"
     ]
    }
   ],
   "source": [
    "### Load & Visualize test data\n",
    "dataiter = iter(testloader)\n",
    "images, labels = dataiter.next()\n",
    "\n",
    "imshow(torchvision.utils.make_grid(images))\n",
    "print(', '.join('%5s' % classes[labels[j]] for j in range(4)))"
   ]
  },
  {
   "cell_type": "code",
   "execution_count": 48,
   "metadata": {},
   "outputs": [
    {
     "name": "stdout",
     "output_type": "stream",
     "text": [
      "  cat,  ship, plane,  ship\n"
     ]
    }
   ],
   "source": [
    "### Try on first set of 4 images\n",
    "_, predictions = torch.max(net(images), 1)\n",
    "print(', '.join('%5s' % classes[predictions[j]] for j in range(4)))"
   ]
  },
  {
   "cell_type": "code",
   "execution_count": 49,
   "metadata": {},
   "outputs": [
    {
     "name": "stdout",
     "output_type": "stream",
     "text": [
      "Accuracy of network: 55 %\n"
     ]
    }
   ],
   "source": [
    "correct = 0\n",
    "total = 0\n",
    "\n",
    "## To be fast, since only predicting, dont store gradients\n",
    "with torch.no_grad():\n",
    "    for data in testloader:\n",
    "        images, labels = data\n",
    "        outputs = net(images)\n",
    "        _, predictions = torch.max(outputs.data, 1)\n",
    "        total += labels.size(0)\n",
    "        correct += (predictions == labels).sum().item()\n",
    "        \n",
    "print('Accuracy of network: %d %%' % (100 * correct / total))"
   ]
  },
  {
   "cell_type": "markdown",
   "metadata": {},
   "source": [
    "# With GPU"
   ]
  },
  {
   "cell_type": "code",
   "execution_count": 2,
   "metadata": {},
   "outputs": [
    {
     "name": "stdout",
     "output_type": "stream",
     "text": [
      "cuda:0\n"
     ]
    }
   ],
   "source": [
    "device = torch.device('cuda:0' if torch.cuda.is_available() else 'cpu')\n",
    "print(device)"
   ]
  },
  {
   "cell_type": "code",
   "execution_count": 8,
   "metadata": {},
   "outputs": [],
   "source": [
    "### Define net & net params ###\n",
    "net = Net()\n",
    "net.to(device)\n",
    "params = list(net.parameters())\n",
    "\n",
    "### Set loss to be backpropagated for gradient calc, & optimizer to be used for latter ###\n",
    "criterion = nn.CrossEntropyLoss()\n",
    "optimizer = optim.Adam(params=params, lr=0.001)"
   ]
  },
  {
   "cell_type": "code",
   "execution_count": 9,
   "metadata": {},
   "outputs": [
    {
     "name": "stdout",
     "output_type": "stream",
     "text": [
      "[1,  2000] loss: 2.236\n",
      "[1,  4000] loss: 2.166\n",
      "[1,  6000] loss: 2.124\n",
      "[1,  8000] loss: 2.126\n",
      "[1, 10000] loss: 2.102\n",
      "[1, 12000] loss: 2.105\n",
      "[2,  2000] loss: 2.106\n",
      "[2,  4000] loss: 2.091\n",
      "[2,  6000] loss: 2.087\n",
      "[2,  8000] loss: 2.086\n",
      "[2, 10000] loss: 2.088\n",
      "[2, 12000] loss: 2.089\n",
      "Finished training\n",
      "Wall time: 7min 43s\n"
     ]
    }
   ],
   "source": [
    "%%time\n",
    "### Iterate over n (=2) epochs\n",
    "for epoch in range(2):\n",
    "    ### Instantiate loss for epoch session \n",
    "    running_loss = 0.0\n",
    "    for i, data in enumerate(trainloader, 0):\n",
    "        ### 4 inputs & labels at a time\n",
    "        inputs, labels = data[0].to(device), data[1].to(device)\n",
    "        \n",
    "        ### reset optimizer to zero\n",
    "        optimizer.zero_grad()\n",
    "        \n",
    "        ### predict outputs using net\n",
    "        outputs = net(inputs)\n",
    "        \n",
    "        ### calculate loss\n",
    "        loss = criterion(outputs, labels)\n",
    "        \n",
    "        ### backpropagate and get gradient\n",
    "        loss.backward()\n",
    "        \n",
    "        ### optimizer to update its params with gradient (dloss/dparams) with which it was instantiated with\n",
    "        optimizer.step()\n",
    "        \n",
    "        running_loss += loss.item()\n",
    "        if i % 2000 == 1999:\n",
    "            print('[%d, %5d] loss: %.3f' % (epoch + 1, i + 1, running_loss / 2000))\n",
    "            running_loss = 0.0\n",
    "\n",
    "print('Finished training')"
   ]
  },
  {
   "cell_type": "code",
   "execution_count": 11,
   "metadata": {},
   "outputs": [
    {
     "name": "stdout",
     "output_type": "stream",
     "text": [
      "Accuracy of network: 39 %\n",
      "Wall time: 14.3 s\n"
     ]
    }
   ],
   "source": [
    "%%time\n",
    "correct = 0\n",
    "total = 0\n",
    "\n",
    "## To be fast, since only predicting, dont store gradients\n",
    "with torch.no_grad():\n",
    "    for data in testloader:\n",
    "        images, labels = data[0].to(device), data[1].to(device)\n",
    "        outputs = net(images)\n",
    "        _, predictions = torch.max(outputs.data, 1)\n",
    "        total += labels.size(0)\n",
    "        correct += (predictions == labels).sum().item()\n",
    "        \n",
    "print('Accuracy of network: %d %%' % (100 * correct / total))"
   ]
  },
  {
   "cell_type": "markdown",
   "metadata": {},
   "source": [
    "# Saving / Loading Models"
   ]
  },
  {
   "cell_type": "code",
   "execution_count": 13,
   "metadata": {},
   "outputs": [],
   "source": [
    "### Saving model\n",
    "torch.save(net.state_dict(), './model/net.pt')\n",
    "\n",
    "### Loading model\n",
    "# net = Net()\n",
    "# net.load_state_dict(torch.load('./model/net.pt'))\n",
    "# ### Call the eval method to set dropout and batch normalization layers to evaluation mode before running inference. \n",
    "# ### Failing to do this will yield inconsistent inference results.\n",
    "# net.eval()"
   ]
  },
  {
   "cell_type": "code",
   "execution_count": null,
   "metadata": {},
   "outputs": [],
   "source": []
  }
 ],
 "metadata": {
  "kernelspec": {
   "display_name": "Python 3",
   "language": "python",
   "name": "python3"
  },
  "language_info": {
   "codemirror_mode": {
    "name": "ipython",
    "version": 3
   },
   "file_extension": ".py",
   "mimetype": "text/x-python",
   "name": "python",
   "nbconvert_exporter": "python",
   "pygments_lexer": "ipython3",
   "version": "3.6.9"
  }
 },
 "nbformat": 4,
 "nbformat_minor": 2
}
